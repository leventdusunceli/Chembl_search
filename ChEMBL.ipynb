{
 "cells": [
  {
   "cell_type": "markdown",
   "id": "b279c768",
   "metadata": {},
   "source": [
    "# Searching for Chemical Structures from ChEMBL Database "
   ]
  },
  {
   "cell_type": "markdown",
   "id": "5e692c4b",
   "metadata": {},
   "source": [
    "ChEMBL is a database for chemical molecules that are active against certain proteins and possess drug-like properties. (https://www.ebi.ac.uk/chembl/) \n",
    "\n",
    "Database consists of over 2 million unique compounds showing bioactivity against over 14 thousand targets.\n",
    "\n",
    "In this notebook, I'll demonstrate how to search biologically active compounds for a specific target using Python. \n",
    "\n",
    "ChEMBL has a very user-friendly website, however using Python to query searches is more convenient for compiling search results and filtering out certain properties of compounds.  "
   ]
  },
  {
   "cell_type": "markdown",
   "id": "ca5349b3",
   "metadata": {},
   "source": [
    "## Installing ChEMBL webresource client and necessary packages"
   ]
  },
  {
   "cell_type": "code",
   "execution_count": null,
   "id": "02eb0f2f",
   "metadata": {},
   "outputs": [],
   "source": [
    "#This is the official Python client library and will allow us to access ChEMBL from Python\n",
    "\n",
    "!pip install chembl_webresource_client\n",
    "\n",
    "from chembl_webresource_client.new_client import new_client \n",
    "\n",
    "#We'll also need pandas to perform certain operations on the results \n",
    "\n",
    "import pandas as pd "
   ]
  },
  {
   "cell_type": "markdown",
   "id": "800fc7f7",
   "metadata": {},
   "source": [
    "## Searching for a target protein\n",
    "\n",
    "First we'll select a target protein from the database. \n",
    "\n",
    "new_client.target.search() function is used to create a query for targets. Keyword or the name of the protein is given as a string inside the function and results will return all the targets containing the keyword. \n",
    "\n",
    "If you know the exact way your protein is recorded into the ChEMBL database you can skip this step.\n",
    "\n",
    "In our case we want to search for compounds active against human TP53, also known as cellular tumor antigen p53.\n",
    "\n"
   ]
  },
  {
   "cell_type": "code",
   "execution_count": null,
   "id": "f4d2983d",
   "metadata": {},
   "outputs": [],
   "source": [
    "#We'll also import the search results into a dataframe \n",
    "\n",
    "\n",
    "compounds = pd.DataFrame(new_client.target.search(\"p53\"))\n",
    "\n",
    "compounds.head()\n"
   ]
  },
  {
   "cell_type": "markdown",
   "id": "08635459",
   "metadata": {},
   "source": [
    "## Searching for compounds active against protein of interest\n",
    "\n",
    "new_client.activity() function is used for compound search.  \n",
    "\n",
    ".filter(target_chembl_id = ...) will be added to filter for the protein of interest. We'll use the ChEMBL ID of tp53 from the previous step. \n",
    "\n",
    "\n",
    "For uniformity of the results you'll also want to filter for the type of bioactivity unit defined for the compound.  For our case we want compounds with defined IC50 values. "
   ]
  },
  {
   "cell_type": "code",
   "execution_count": null,
   "id": "ee8e02fb",
   "metadata": {},
   "outputs": [],
   "source": [
    "tp53_chembl_id = compounds.target_chembl_id[0] \n",
    "\n",
    "res1 = new_client.activity.filter(target_chembl_id = tp53_chembl_id).filter(standard_type = \"IC50\")\n",
    "\n",
    "df1 = pd.DataFrame(res1)\n",
    "\n",
    "#Let's get rid of compounds with missing IC50 data \n",
    "\n",
    "df2 = df1[df1.standard_value.notna()]\n",
    "\n",
    "df2.head()"
   ]
  },
  {
   "cell_type": "markdown",
   "id": "6c0b60a5",
   "metadata": {},
   "source": [
    "Now we have our table with compounds showing bioactivity properties against our target of interest.  \n",
    "\n",
    "From this point on one can perform different analysis on this dataset. \n",
    "\n",
    "Lastly, let's save our data to csv file"
   ]
  },
  {
   "cell_type": "code",
   "execution_count": null,
   "id": "db3678e7",
   "metadata": {
    "scrolled": false
   },
   "outputs": [],
   "source": [
    "df2.columns"
   ]
  },
  {
   "cell_type": "code",
   "execution_count": null,
   "id": "ee41c705",
   "metadata": {},
   "outputs": [],
   "source": [
    "df2.to_csv(\"p53_active_compounds.csv\",index=False)"
   ]
  },
  {
   "cell_type": "code",
   "execution_count": null,
   "id": "cc97b073",
   "metadata": {},
   "outputs": [],
   "source": []
  }
 ],
 "metadata": {
  "kernelspec": {
   "display_name": "Python 3",
   "language": "python",
   "name": "python3"
  },
  "language_info": {
   "codemirror_mode": {
    "name": "ipython",
    "version": 3
   },
   "file_extension": ".py",
   "mimetype": "text/x-python",
   "name": "python",
   "nbconvert_exporter": "python",
   "pygments_lexer": "ipython3",
   "version": "3.8.8"
  }
 },
 "nbformat": 4,
 "nbformat_minor": 5
}
